{
 "cells": [
  {
   "cell_type": "code",
   "execution_count": 1,
   "id": "4efac8db",
   "metadata": {},
   "outputs": [],
   "source": [
    "import spotipy\n",
    "import time\n",
    "import requests\n",
    "from spotipy.oauth2 import SpotifyClientCredentials\n",
    "import pandas as pd\n",
    "import numpy as np\n",
    "from requests.exceptions import Timeout\n",
    "import matplotlib.pyplot as plt\n",
    "from sklearn.cluster import KMeans\n",
    "from sklearn import datasets\n",
    "from sklearn.preprocessing import StandardScaler\n",
    "from sklearn.neighbors import NearestNeighbors\n",
    "from sklearn.metrics import silhouette_score\n",
    "import pickle\n",
    "from sklearn.preprocessing import StandardScaler\n",
    "from sklearn.feature_extraction.text import TfidfVectorizer\n",
    "from sklearn.metrics.pairwise import pairwise_distances\n",
    "from sklearn.metrics.pairwise import cosine_similarity\n",
    "import ipywidgets as widgets\n",
    "from sklearn.cluster import DBSCAN\n",
    "from IPython.display import display\n",
    "import tempfile\n",
    "import random"
   ]
  },
  {
   "cell_type": "code",
   "execution_count": 12,
   "id": "986da53f",
   "metadata": {},
   "outputs": [
    {
     "data": {
      "application/vnd.jupyter.widget-view+json": {
       "model_id": "10534f72a8ba4ecab0868c5657d12165",
       "version_major": 2,
       "version_minor": 0
      },
      "text/plain": [
       "Text(value='', description='Song Name:')"
      ]
     },
     "metadata": {},
     "output_type": "display_data"
    },
    {
     "data": {
      "application/vnd.jupyter.widget-view+json": {
       "model_id": "20f944d21577412ca0c0ef651a1827c6",
       "version_major": 2,
       "version_minor": 0
      },
      "text/plain": [
       "FileUpload(value={}, description='Upload CSV:')"
      ]
     },
     "metadata": {},
     "output_type": "display_data"
    },
    {
     "data": {
      "application/vnd.jupyter.widget-view+json": {
       "model_id": "404bd7869e2b4b389f293c65fab67da7",
       "version_major": 2,
       "version_minor": 0
      },
      "text/plain": [
       "Button(description='Search', style=ButtonStyle())"
      ]
     },
     "metadata": {},
     "output_type": "display_data"
    },
    {
     "data": {
      "application/vnd.jupyter.widget-view+json": {
       "model_id": "bb234e06b3094930ba7b4d5f9a35da79",
       "version_major": 2,
       "version_minor": 0
      },
      "text/plain": [
       "Button(description='Reset', style=ButtonStyle())"
      ]
     },
     "metadata": {},
     "output_type": "display_data"
    },
    {
     "name": "stdout",
     "output_type": "stream",
     "text": [
      "The song 'allow it' was not found in the data. You might like 'Could've Been (feat. Bryson Tiller)' instead.\n",
      "The song 'Candida' is HOT!!!\n"
     ]
    }
   ],
   "source": [
    "def find_similar_song(song_name, X_data, n_neighbors=2):\n",
    "    # Preprocess the data\n",
    "    X_prep = StandardScaler().fit_transform(X_data.drop('Song Name', axis=1))\n",
    "    nbrs = NearestNeighbors(n_neighbors=n_neighbors).fit(X_prep)\n",
    "    song_index = X_data.index[X_data['Song Name'] == song_name]\n",
    "\n",
    "    if len(song_index) > 0:\n",
    "        song_index = song_index[0]\n",
    "        distances, indices = nbrs.kneighbors(X_prep[song_index].reshape(1, -1))\n",
    "        similar_song_indices = indices.flatten()\n",
    "        similar_songs = X_data.loc[similar_song_indices, 'Song Name'].values\n",
    "        similar_songs = similar_songs[similar_songs != song_name]\n",
    "\n",
    "        # Check if the searched song belongs to a cluster\n",
    "        if 'cluster_labels' in globals() and song_index < len(cluster_labels):\n",
    "            song_cluster_label = cluster_labels[song_index]\n",
    "            if song_cluster_label in cluster_indices:\n",
    "                # Get all songs from the same cluster\n",
    "                cluster_songs = cluster_indices[song_cluster_label]\n",
    "                cluster_songs = [song for song in cluster_songs if song != song_index]\n",
    "                if cluster_songs:\n",
    "                    # Choose a random song from the cluster\n",
    "                    random_song_index = random.choice(cluster_songs)\n",
    "                    random_song = X_data.loc[random_song_index, 'Song Name']\n",
    "                    return f\"The song '{song_name}' is HOT!!! You might also like '{random_song}'.\"\n",
    "        return f\"The song '{song_name}' is HOT!!!\"\n",
    "    else:\n",
    "        distances, indices = nbrs.kneighbors(X_prep)\n",
    "        if len(indices) > 0:\n",
    "            most_similar_song_index = indices[0][1]\n",
    "            most_similar_song = X_data.loc[most_similar_song_index, 'Song Name']\n",
    "            return f\"The song '{song_name}' was not found in the data. You might like '{most_similar_song}' instead.\"\n",
    "        else:\n",
    "            return \"No songs found in the data.\"\n",
    "\n",
    "\n",
    "#      ------------------------------------------------------------------------------------------------------    \n",
    "\n",
    "# Button's Function's Search / Reset / Song Name\n",
    "\n",
    "def on_search_button_clicked(b):\n",
    "    \n",
    "    song_name = song_name_input.value\n",
    "    file_contents = next(iter(file_input.value.values()))\n",
    "\n",
    "    with tempfile.NamedTemporaryFile(suffix=\".csv\", delete=False) as temp_file:\n",
    "        temp_file.write(file_contents[\"content\"])\n",
    "        temp_file_path = temp_file.name\n",
    "\n",
    "    X_data = pd.read_csv(temp_file_path)\n",
    "    result = find_similar_song(song_name, X_data)\n",
    "    print(result)\n",
    "\n",
    "def on_reset_button_clicked(b):\n",
    "    song_name_input.value = ''\n",
    "    file_input.value.clear()\n",
    "    print(\"Form reset.\")\n",
    "\n",
    "song_name_input = widgets.Text(description='Song Name:')\n",
    "file_input = widgets.FileUpload(description='Upload CSV:')\n",
    "search_button = widgets.Button(description='Search')\n",
    "reset_button = widgets.Button(description='Reset')\n",
    "search_button.on_click(on_search_button_clicked)\n",
    "reset_button.on_click(on_reset_button_clicked)\n",
    "display(song_name_input, file_input, search_button, reset_button)"
   ]
  }
 ],
 "metadata": {
  "kernelspec": {
   "display_name": "Python 3 (ipykernel)",
   "language": "python",
   "name": "python3"
  },
  "language_info": {
   "codemirror_mode": {
    "name": "ipython",
    "version": 3
   },
   "file_extension": ".py",
   "mimetype": "text/x-python",
   "name": "python",
   "nbconvert_exporter": "python",
   "pygments_lexer": "ipython3",
   "version": "3.10.9"
  }
 },
 "nbformat": 4,
 "nbformat_minor": 5
}
